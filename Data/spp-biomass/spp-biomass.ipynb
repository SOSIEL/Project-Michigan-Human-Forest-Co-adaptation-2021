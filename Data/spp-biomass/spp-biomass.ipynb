{
 "cells": [
  {
   "cell_type": "markdown",
   "metadata": {},
   "source": [
    "**Name:** spp-biomass  \n",
    "**Description:** The Python code separates LANDIS-II's spp-biomass output file into species-specific files, in which data is aggregated among subecoregions and saved into species-specific files.  \n",
    "**Author:** G. Sotnik"
   ]
  },
  {
   "cell_type": "markdown",
   "metadata": {},
   "source": [
    "Import relevant library."
   ]
  },
  {
   "cell_type": "code",
   "execution_count": null,
   "metadata": {},
   "outputs": [],
   "source": [
    "import pandas as pd"
   ]
  },
  {
   "cell_type": "markdown",
   "metadata": {},
   "source": [
    "### Prepare data"
   ]
  },
  {
   "cell_type": "markdown",
   "metadata": {},
   "source": [
    "Load data. Designate the first row as the header."
   ]
  },
  {
   "cell_type": "code",
   "execution_count": null,
   "metadata": {},
   "outputs": [],
   "source": [
    "spp_biomass = pd.read_csv('spp-biomass_pcm_mgmt_alb_sim1.csv', header = 0)"
   ]
  },
  {
   "cell_type": "markdown",
   "metadata": {},
   "source": [
    "Remove all rows related to water."
   ]
  },
  {
   "cell_type": "code",
   "execution_count": null,
   "metadata": {},
   "outputs": [],
   "source": [
    "spp_biomass = spp_biomass[~spp_biomass.EcoName.str.contains(\"water\")]"
   ]
  },
  {
   "cell_type": "markdown",
   "metadata": {},
   "source": [
    "Remove unused columns."
   ]
  },
  {
   "cell_type": "code",
   "execution_count": null,
   "metadata": {},
   "outputs": [],
   "source": [
    "spp_biomass.drop(labels = ['NumActiveSites', 'AboveGroundBiomass_carycord',\n",
    "                           'AboveGroundBiomass_caryovat', 'AboveGroundBiomass_castdent',\n",
    "                           'AboveGroundBiomass_quercocc', 'AboveGroundBiomass_querfalc',\n",
    "                           'AboveGroundBiomass_quermacr'],\n",
    "                 inplace = True,\n",
    "                 axis = 1)"
   ]
  },
  {
   "cell_type": "markdown",
   "metadata": {},
   "source": [
    "Rename column names."
   ]
  },
  {
   "cell_type": "code",
   "execution_count": null,
   "metadata": {},
   "outputs": [],
   "source": [
    "spp_biomass.columns = ['Time', 'EcoName', 'abiebals', 'acerrubr', 'acersacc',\n",
    "                       'betualle', 'betupapy', 'fagugran', 'fraxamer', 'fraxnigr',\n",
    "                       'fraxpenn', 'piceglau', 'picemari', 'pinubank', 'pinuresi',\n",
    "                       'pinustro', 'pinusylv', 'popubals', 'popugran', 'poputrem',\n",
    "                       'prunsero', 'queralba', 'querelli', 'querrubr', 'quervelu',\n",
    "                       'thujocci', 'tiliamer', 'tsugcana', 'ulmuamer']"
   ]
  },
  {
   "cell_type": "markdown",
   "metadata": {},
   "source": [
    "Rename ecoregion names."
   ]
  },
  {
   "cell_type": "code",
   "execution_count": null,
   "metadata": {},
   "outputs": [],
   "source": [
    "for ecoregion in range(1,10):\n",
    "    spp_biomass.loc[spp_biomass['EcoName'].str.contains(\n",
    "        f\"Eco{ecoregion}\"), 'EcoName'] = f\"{ecoregion}\""
   ]
  },
  {
   "cell_type": "markdown",
   "metadata": {},
   "source": [
    "Convert all columns to numbers."
   ]
  },
  {
   "cell_type": "code",
   "execution_count": null,
   "metadata": {},
   "outputs": [],
   "source": [
    "spp_biomass = spp_biomass.apply(pd.to_numeric)"
   ]
  },
  {
   "cell_type": "markdown",
   "metadata": {},
   "source": [
    "Create indices."
   ]
  },
  {
   "cell_type": "code",
   "execution_count": null,
   "metadata": {},
   "outputs": [],
   "source": [
    "times = [*range(0,75,5)]\n",
    "ecoregions = [*range(1,10)]"
   ]
  },
  {
   "cell_type": "markdown",
   "metadata": {},
   "source": [
    "### Process data"
   ]
  },
  {
   "cell_type": "markdown",
   "metadata": {},
   "source": [
    "Separate spp-biomass output file into species-specific files, in which data is aggregated among subecoregions and saved into species-specific files."
   ]
  },
  {
   "cell_type": "code",
   "execution_count": null,
   "metadata": {},
   "outputs": [],
   "source": [
    "for species in range(2,29):\n",
    "    vars()[spp_biomass.columns[species]] = pd.DataFrame(index = times, columns = ecoregions) \n",
    "    for time in range(0,75,5):\n",
    "        for ecoregion in range(1,10):\n",
    "            vars()[spp_biomass.columns[species]].loc[time][ecoregion] = round(spp_biomass.loc[\n",
    "                (spp_biomass['Time'] == time) & (spp_biomass['EcoName'] == ecoregion),\n",
    "                spp_biomass.columns[species]].sum(), 1)\n",
    "    vars()[spp_biomass.columns[species]].to_csv(\n",
    "        f'spp_biomass_pcm_mgmt_alb_sim1_{spp_biomass.columns[species]}.csv')"
   ]
  }
 ],
 "metadata": {
  "kernelspec": {
   "display_name": "Python 3",
   "language": "python",
   "name": "python3"
  },
  "language_info": {
   "codemirror_mode": {
    "name": "ipython",
    "version": 3
   },
   "file_extension": ".py",
   "mimetype": "text/x-python",
   "name": "python",
   "nbconvert_exporter": "python",
   "pygments_lexer": "ipython3",
   "version": "3.7.6"
  }
 },
 "nbformat": 4,
 "nbformat_minor": 4
}

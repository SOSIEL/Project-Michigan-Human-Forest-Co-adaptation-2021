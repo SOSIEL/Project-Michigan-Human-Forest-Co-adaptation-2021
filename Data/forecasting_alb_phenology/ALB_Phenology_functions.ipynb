{
 "cells": [
  {
   "cell_type": "markdown",
   "metadata": {},
   "source": [
    "**SPDX-License-Identifier:** LGPL-3.0-or-later  \n",
    "**Copyright** (C) 2021 SOSIEL Inc. All rights reserved.  \n",
    "\n",
    "**Name:** ALB_Phenology_functions  \n",
    "**Description:** A Python adaptation of Talbot Trotter's MATLAB ALB (Asian Longhorned Beetle) Phenology algorithm from Trotter and Keena (2016). This file includes the two functions that are used in the main socurce code file, called ALB Phenology.  \n",
    "**Rewritten in Python by:** Garry Sotnik"
   ]
  },
  {
   "cell_type": "markdown",
   "metadata": {},
   "source": [
    "Use the smooth_temp_data function to smooth the temperature data. The function does this by averaging 5 day temperature windows centered on the target date, and repeating this process 10 times."
   ]
  },
  {
   "cell_type": "code",
   "execution_count": null,
   "metadata": {},
   "outputs": [],
   "source": [
    "def smooth_temp_data(max_temp, min_temp):\n",
    "    for i in range(10):\n",
    "        min_temp.iloc[0] = (\n",
    "            min_temp.iloc[363] + min_temp.iloc[364] + min_temp.iloc[0] + min_temp.iloc[1] + min_temp.iloc[2])/5\n",
    "        min_temp.iloc[1] = (\n",
    "            min_temp.iloc[364] + min_temp.iloc[0] + min_temp.iloc[1] + min_temp.iloc[2] + min_temp.iloc[3])/5\n",
    "        min_temp.iloc[363] = (\n",
    "            min_temp.iloc[361] + min_temp.iloc[362] + min_temp.iloc[363] + min_temp.iloc[364] + min_temp.iloc[0])/5\n",
    "        min_temp.iloc[364] = (\n",
    "            min_temp.iloc[362] + min_temp.iloc[363] + min_temp.iloc[364] + min_temp.iloc[0] + min_temp.iloc[1])/5\n",
    "        for day in range(2,363):\n",
    "            min_temp.iloc[day] = (\n",
    "                min_temp.iloc[day-2] + min_temp.iloc[day-1] + min_temp.iloc[day] + min_temp.iloc[\n",
    "                    day+1] + min_temp.iloc[day+2])/5\n",
    "        max_temp.iloc[0] = (\n",
    "            max_temp.iloc[363] + max_temp.iloc[364] + max_temp.iloc[0] + max_temp.iloc[1] + max_temp.iloc[2])/5\n",
    "        max_temp.iloc[1] = (\n",
    "            max_temp.iloc[364] + max_temp.iloc[0] + max_temp.iloc[1] + max_temp.iloc[2] + max_temp.iloc[3])/5\n",
    "        max_temp.iloc[363] = (\n",
    "            max_temp.iloc[361] + max_temp.iloc[362] + max_temp.iloc[363] + max_temp.iloc[364] + max_temp.iloc[0])/5\n",
    "        max_temp.iloc[364] = (\n",
    "            max_temp.iloc[362] + max_temp.iloc[363] + max_temp.iloc[364] + max_temp.iloc[0] + max_temp.iloc[1])/5\n",
    "        for day in range(2,363):\n",
    "            max_temp.iloc[day] = (\n",
    "                max_temp.iloc[day-2] + max_temp.iloc[day-1] + max_temp.iloc[day] + max_temp.iloc[\n",
    "                    day+1] + max_temp.iloc[day+2])/5"
   ]
  },
  {
   "cell_type": "markdown",
   "metadata": {},
   "source": [
    "Use the hdd_Allen function to calculate heating and cooling degree days."
   ]
  },
  {
   "cell_type": "code",
   "execution_count": null,
   "metadata": {},
   "outputs": [],
   "source": [
    "def hdd_Allen(day,max_temp,min_temp,min_temp_1,ALB_LCT,ALB_UCT):\n",
    "    \n",
    "    import cmath\n",
    "    \n",
    "    temp_ave_am = (max_temp + min_temp) / 2\n",
    "    temp_ave_pm = (max_temp + min_temp_1) / 2\n",
    "\n",
    "# Case 1 and 2, both minimum and maximum temperatures above or below\n",
    "# upper or lower critical temperature thresholds, respectively.\n",
    "    if min_temp_1 >= ALB_UCT: # If the lower temperature exceeds the upper critical temperature then there is no development\n",
    "        return 0\n",
    "    if max_temp <= ALB_LCT: # If the upper temperature exceeds the lower critical temperature then there is no development\n",
    "        return 0\n",
    " \n",
    "# Case 3, minimum and maximum temperatures both between upper and lower\n",
    "# critical threshold temperatures.\n",
    "    if(min_temp >= ALB_LCT and min_temp <= ALB_UCT and max_temp >= ALB_LCT and max_temp <= ALB_UCT):\n",
    "        hdd_am = 0.5 * (temp_ave_am - ALB_LCT)\n",
    "        hdd_pm = 0.5 * (temp_ave_pm - ALB_LCT)\n",
    "        hdd = hdd_am + hdd_pm\n",
    "        return hdd\n",
    " \n",
    "# If the above conditions have not been met, then calculations may require the following variables.\n",
    "    alpha_am = (max_temp - min_temp) / 2\n",
    "    theta_am = cmath.asin((ALB_LCT - temp_ave_am) / alpha_am)\n",
    "    alpha_pm = (max_temp - min_temp_1) / 2\n",
    "    theta_pm = cmath.asin((ALB_LCT - temp_ave_pm) / alpha_pm)\n",
    " \n",
    "# Case 4, minimum temperature is below minimum critical threshold\n",
    "# temperature, but maximum temperature is above minimum critical threshold\n",
    "# temperature, and below maximum critical threshold temperature.\n",
    "    if(min_temp <= ALB_LCT and max_temp >= ALB_LCT and max_temp <= ALB_UCT):\n",
    "        hdd_am = (1 / (2 * cmath.pi)) * ((temp_ave_am - ALB_LCT) *\n",
    "                ((cmath.pi / 2) - theta_am) + (alpha_am * cmath.cos(theta_am)))\n",
    "        hdd_pm = (1 / (2 * cmath.pi)) * ((temp_ave_pm - ALB_LCT) *\n",
    "                ((cmath.pi / 2) - theta_pm) + (alpha_pm * cmath.cos(theta_pm)))\n",
    "        hdd = hdd_am + hdd_pm\n",
    "        return hdd\n",
    "\n",
    "# If the above conditions have not been met, then calculations may require the following variables.\n",
    "    theta_2_am = cmath.asin((ALB_UCT - temp_ave_am) / alpha_am)\n",
    "    theta_2_pm = cmath.asin((ALB_UCT - temp_ave_pm) / alpha_pm)\n",
    " \n",
    "# Case 5, minimum temperature is between the minimum and maximum critical\n",
    "# temperature thresholds, but the maximum temperature is above the maximum\n",
    "# critical temperature threshold.\n",
    "    if(min_temp >= ALB_LCT and min_temp <= ALB_UCT and max_temp >= ALB_LCT):\n",
    "        hdd_am = (1 / (2 * cmath.pi)) * ((temp_ave_am - ALB_LCT) *\n",
    "                (theta_2_am + (cmath.pi / 2)) +\n",
    "                (ALB_UCT - ALB_LCT) * \n",
    "                ((cmath.pi / 2) - theta_2_am) -\n",
    "                (alpha_am * cmath.cos(theta_2_am)))\n",
    "        hdd_pm = (1 / (2 * cmath.pi)) * ((temp_ave_pm - ALB_LCT) *\n",
    "                (theta_2_pm + (cmath.pi / 2)) +\n",
    "                (ALB_LCT - ALB_UCT) *\n",
    "                ((cmath.pi / 2) - theta_2_pm) -\n",
    "                (alpha_pm * cmath.cos(theta_2_pm)))\n",
    "        hdd = hdd_am + hdd_pm\n",
    "        return hdd\n",
    " \n",
    "# Case 6, minimum temperature is below the minimum critical threshold\n",
    "# temperature, and maximum temperature is above the maximum critical\n",
    "# threshold temperature.\n",
    "    if(min_temp <= ALB_LCT and max_temp >= ALB_UCT):\n",
    "        hdd_am = (1 / (2 * cmath.pi)) * ((temp_ave_am - ALB_LCT) *\n",
    "                (theta_2_am - theta_am) + alpha_am *\n",
    "                (cmath.cos(theta_am) - cmath.cos(theta_2_am)) +\n",
    "                (ALB_UCT - ALB_LCT) * ((cmath.pi / 2) - theta_2_am))\n",
    "        hdd_pm = (1 / (2 * cmath.pi)) * ((temp_ave_pm - ALB_LCT) *\n",
    "                (theta_2_pm - theta_pm) + alpha_pm *\n",
    "                (cmath.cos(theta_pm) - cmath.cos(theta_2_pm)) +\n",
    "                (ALB_UCT - ALB_LCT) * ((cmath.pi / 2) - theta_2_pm))\n",
    "        hdd = hdd_am + hdd_pm\n",
    "        return hdd"
   ]
  }
 ],
 "metadata": {
  "kernelspec": {
   "display_name": "Python 3",
   "language": "python",
   "name": "python3"
  },
  "language_info": {
   "codemirror_mode": {
    "name": "ipython",
    "version": 3
   },
   "file_extension": ".py",
   "mimetype": "text/x-python",
   "name": "python",
   "nbconvert_exporter": "python",
   "pygments_lexer": "ipython3",
   "version": "3.7.6"
  }
 },
 "nbformat": 4,
 "nbformat_minor": 4
}

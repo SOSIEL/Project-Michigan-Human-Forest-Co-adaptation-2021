{
 "cells": [
  {
   "cell_type": "markdown",
   "metadata": {},
   "source": [
    "**SPDX-License-Identifier:** LGPL-3.0-or-later  \n",
    "**Copyright** (C) 2021 SOSIEL Inc. All rights reserved.  \n",
    "\n",
    "**Name:** ALB Phenology  \n",
    "**Description:** A Python adaptation of Talbot Trotter's MATLAB ALB (Asian Longhorned Beetle) Phenology algorithm from Trotter and Keena (2016).\n",
    "The adapted version includes the following five differences from the original code:\n",
    "1. The ability to choose among input options is removed and in each case the default is used.\n",
    "2. Variable names that consist of two or more words or acronyms now include hyphens that seperate them.\n",
    "3. It is streamlined where possible.\n",
    "4. Output has changed completely.\n",
    "\n",
    "**Rewritten in Python by:** Garry Sotnik"
   ]
  },
  {
   "cell_type": "code",
   "execution_count": 5,
   "metadata": {},
   "outputs": [
    {
     "ename": "ModuleNotFoundError",
     "evalue": "No module named 'ALB_Phenology_functions'",
     "output_type": "error",
     "traceback": [
      "\u001b[1;31m---------------------------------------------------------------------------\u001b[0m",
      "\u001b[1;31mModuleNotFoundError\u001b[0m                       Traceback (most recent call last)",
      "\u001b[1;32m<ipython-input-5-adc2a501325b>\u001b[0m in \u001b[0;36m<module>\u001b[1;34m\u001b[0m\n\u001b[0;32m      3\u001b[0m \u001b[1;32mimport\u001b[0m \u001b[0mnumpy\u001b[0m \u001b[1;32mas\u001b[0m \u001b[0mnp\u001b[0m\u001b[1;33m\u001b[0m\u001b[1;33m\u001b[0m\u001b[0m\n\u001b[0;32m      4\u001b[0m \u001b[1;32mimport\u001b[0m \u001b[0mpandas\u001b[0m \u001b[1;32mas\u001b[0m \u001b[0mpd\u001b[0m\u001b[1;33m\u001b[0m\u001b[1;33m\u001b[0m\u001b[0m\n\u001b[1;32m----> 5\u001b[1;33m \u001b[1;32mfrom\u001b[0m \u001b[0mALB_Phenology_functions\u001b[0m\u001b[1;33m.\u001b[0m\u001b[0mipynb\u001b[0m \u001b[1;32mimport\u001b[0m \u001b[0msmooth_temp_data\u001b[0m\u001b[1;33m,\u001b[0m \u001b[0mhdd_Allen\u001b[0m\u001b[1;33m\u001b[0m\u001b[1;33m\u001b[0m\u001b[0m\n\u001b[0m",
      "\u001b[1;31mModuleNotFoundError\u001b[0m: No module named 'ALB_Phenology_functions'"
     ]
    }
   ],
   "source": [
    "import math\n",
    "import numpy.matlib\n",
    "import numpy as np\n",
    "import pandas as pd\n",
    "from ALB_Phenology_functions.ipynb import smooth_temp_data, hdd_Allen"
   ]
  },
  {
   "cell_type": "code",
   "execution_count": 4,
   "metadata": {},
   "outputs": [
    {
     "ename": "FileNotFoundError",
     "evalue": "[Errno 2] File ALB_HDDreq_recalculated.csv does not exist: 'ALB_HDDreq_recalculated.csv'",
     "output_type": "error",
     "traceback": [
      "\u001b[1;31m---------------------------------------------------------------------------\u001b[0m",
      "\u001b[1;31mFileNotFoundError\u001b[0m                         Traceback (most recent call last)",
      "\u001b[1;32m<ipython-input-4-e2db71a83243>\u001b[0m in \u001b[0;36m<module>\u001b[1;34m\u001b[0m\n\u001b[0;32m      1\u001b[0m \u001b[1;31m# Load data.\u001b[0m\u001b[1;33m\u001b[0m\u001b[1;33m\u001b[0m\u001b[1;33m\u001b[0m\u001b[0m\n\u001b[1;32m----> 2\u001b[1;33m \u001b[0mALB_HDDreq\u001b[0m \u001b[1;33m=\u001b[0m \u001b[0mpd\u001b[0m\u001b[1;33m.\u001b[0m\u001b[0mread_csv\u001b[0m\u001b[1;33m(\u001b[0m\u001b[1;34m'ALB_HDDreq_recalculated.csv'\u001b[0m\u001b[1;33m,\u001b[0m \u001b[0mheader\u001b[0m \u001b[1;33m=\u001b[0m \u001b[1;32mNone\u001b[0m\u001b[1;33m)\u001b[0m\u001b[1;33m\u001b[0m\u001b[1;33m\u001b[0m\u001b[0m\n\u001b[0m\u001b[0;32m      3\u001b[0m \u001b[1;33m\u001b[0m\u001b[0m\n\u001b[0;32m      4\u001b[0m \u001b[0mALB_HDDreq_sd\u001b[0m \u001b[1;33m=\u001b[0m \u001b[0mpd\u001b[0m\u001b[1;33m.\u001b[0m\u001b[0mread_csv\u001b[0m\u001b[1;33m(\u001b[0m\u001b[1;34m'ALB_HDDreq_sd.csv'\u001b[0m\u001b[1;33m,\u001b[0m \u001b[0mheader\u001b[0m \u001b[1;33m=\u001b[0m \u001b[1;32mNone\u001b[0m\u001b[1;33m)\u001b[0m\u001b[1;33m\u001b[0m\u001b[1;33m\u001b[0m\u001b[0m\n\u001b[0;32m      5\u001b[0m \u001b[1;33m\u001b[0m\u001b[0m\n",
      "\u001b[1;32m~\\Anaconda3\\lib\\site-packages\\pandas\\io\\parsers.py\u001b[0m in \u001b[0;36mparser_f\u001b[1;34m(filepath_or_buffer, sep, delimiter, header, names, index_col, usecols, squeeze, prefix, mangle_dupe_cols, dtype, engine, converters, true_values, false_values, skipinitialspace, skiprows, skipfooter, nrows, na_values, keep_default_na, na_filter, verbose, skip_blank_lines, parse_dates, infer_datetime_format, keep_date_col, date_parser, dayfirst, cache_dates, iterator, chunksize, compression, thousands, decimal, lineterminator, quotechar, quoting, doublequote, escapechar, comment, encoding, dialect, error_bad_lines, warn_bad_lines, delim_whitespace, low_memory, memory_map, float_precision)\u001b[0m\n\u001b[0;32m    674\u001b[0m         )\n\u001b[0;32m    675\u001b[0m \u001b[1;33m\u001b[0m\u001b[0m\n\u001b[1;32m--> 676\u001b[1;33m         \u001b[1;32mreturn\u001b[0m \u001b[0m_read\u001b[0m\u001b[1;33m(\u001b[0m\u001b[0mfilepath_or_buffer\u001b[0m\u001b[1;33m,\u001b[0m \u001b[0mkwds\u001b[0m\u001b[1;33m)\u001b[0m\u001b[1;33m\u001b[0m\u001b[1;33m\u001b[0m\u001b[0m\n\u001b[0m\u001b[0;32m    677\u001b[0m \u001b[1;33m\u001b[0m\u001b[0m\n\u001b[0;32m    678\u001b[0m     \u001b[0mparser_f\u001b[0m\u001b[1;33m.\u001b[0m\u001b[0m__name__\u001b[0m \u001b[1;33m=\u001b[0m \u001b[0mname\u001b[0m\u001b[1;33m\u001b[0m\u001b[1;33m\u001b[0m\u001b[0m\n",
      "\u001b[1;32m~\\Anaconda3\\lib\\site-packages\\pandas\\io\\parsers.py\u001b[0m in \u001b[0;36m_read\u001b[1;34m(filepath_or_buffer, kwds)\u001b[0m\n\u001b[0;32m    446\u001b[0m \u001b[1;33m\u001b[0m\u001b[0m\n\u001b[0;32m    447\u001b[0m     \u001b[1;31m# Create the parser.\u001b[0m\u001b[1;33m\u001b[0m\u001b[1;33m\u001b[0m\u001b[1;33m\u001b[0m\u001b[0m\n\u001b[1;32m--> 448\u001b[1;33m     \u001b[0mparser\u001b[0m \u001b[1;33m=\u001b[0m \u001b[0mTextFileReader\u001b[0m\u001b[1;33m(\u001b[0m\u001b[0mfp_or_buf\u001b[0m\u001b[1;33m,\u001b[0m \u001b[1;33m**\u001b[0m\u001b[0mkwds\u001b[0m\u001b[1;33m)\u001b[0m\u001b[1;33m\u001b[0m\u001b[1;33m\u001b[0m\u001b[0m\n\u001b[0m\u001b[0;32m    449\u001b[0m \u001b[1;33m\u001b[0m\u001b[0m\n\u001b[0;32m    450\u001b[0m     \u001b[1;32mif\u001b[0m \u001b[0mchunksize\u001b[0m \u001b[1;32mor\u001b[0m \u001b[0miterator\u001b[0m\u001b[1;33m:\u001b[0m\u001b[1;33m\u001b[0m\u001b[1;33m\u001b[0m\u001b[0m\n",
      "\u001b[1;32m~\\Anaconda3\\lib\\site-packages\\pandas\\io\\parsers.py\u001b[0m in \u001b[0;36m__init__\u001b[1;34m(self, f, engine, **kwds)\u001b[0m\n\u001b[0;32m    878\u001b[0m             \u001b[0mself\u001b[0m\u001b[1;33m.\u001b[0m\u001b[0moptions\u001b[0m\u001b[1;33m[\u001b[0m\u001b[1;34m\"has_index_names\"\u001b[0m\u001b[1;33m]\u001b[0m \u001b[1;33m=\u001b[0m \u001b[0mkwds\u001b[0m\u001b[1;33m[\u001b[0m\u001b[1;34m\"has_index_names\"\u001b[0m\u001b[1;33m]\u001b[0m\u001b[1;33m\u001b[0m\u001b[1;33m\u001b[0m\u001b[0m\n\u001b[0;32m    879\u001b[0m \u001b[1;33m\u001b[0m\u001b[0m\n\u001b[1;32m--> 880\u001b[1;33m         \u001b[0mself\u001b[0m\u001b[1;33m.\u001b[0m\u001b[0m_make_engine\u001b[0m\u001b[1;33m(\u001b[0m\u001b[0mself\u001b[0m\u001b[1;33m.\u001b[0m\u001b[0mengine\u001b[0m\u001b[1;33m)\u001b[0m\u001b[1;33m\u001b[0m\u001b[1;33m\u001b[0m\u001b[0m\n\u001b[0m\u001b[0;32m    881\u001b[0m \u001b[1;33m\u001b[0m\u001b[0m\n\u001b[0;32m    882\u001b[0m     \u001b[1;32mdef\u001b[0m \u001b[0mclose\u001b[0m\u001b[1;33m(\u001b[0m\u001b[0mself\u001b[0m\u001b[1;33m)\u001b[0m\u001b[1;33m:\u001b[0m\u001b[1;33m\u001b[0m\u001b[1;33m\u001b[0m\u001b[0m\n",
      "\u001b[1;32m~\\Anaconda3\\lib\\site-packages\\pandas\\io\\parsers.py\u001b[0m in \u001b[0;36m_make_engine\u001b[1;34m(self, engine)\u001b[0m\n\u001b[0;32m   1112\u001b[0m     \u001b[1;32mdef\u001b[0m \u001b[0m_make_engine\u001b[0m\u001b[1;33m(\u001b[0m\u001b[0mself\u001b[0m\u001b[1;33m,\u001b[0m \u001b[0mengine\u001b[0m\u001b[1;33m=\u001b[0m\u001b[1;34m\"c\"\u001b[0m\u001b[1;33m)\u001b[0m\u001b[1;33m:\u001b[0m\u001b[1;33m\u001b[0m\u001b[1;33m\u001b[0m\u001b[0m\n\u001b[0;32m   1113\u001b[0m         \u001b[1;32mif\u001b[0m \u001b[0mengine\u001b[0m \u001b[1;33m==\u001b[0m \u001b[1;34m\"c\"\u001b[0m\u001b[1;33m:\u001b[0m\u001b[1;33m\u001b[0m\u001b[1;33m\u001b[0m\u001b[0m\n\u001b[1;32m-> 1114\u001b[1;33m             \u001b[0mself\u001b[0m\u001b[1;33m.\u001b[0m\u001b[0m_engine\u001b[0m \u001b[1;33m=\u001b[0m \u001b[0mCParserWrapper\u001b[0m\u001b[1;33m(\u001b[0m\u001b[0mself\u001b[0m\u001b[1;33m.\u001b[0m\u001b[0mf\u001b[0m\u001b[1;33m,\u001b[0m \u001b[1;33m**\u001b[0m\u001b[0mself\u001b[0m\u001b[1;33m.\u001b[0m\u001b[0moptions\u001b[0m\u001b[1;33m)\u001b[0m\u001b[1;33m\u001b[0m\u001b[1;33m\u001b[0m\u001b[0m\n\u001b[0m\u001b[0;32m   1115\u001b[0m         \u001b[1;32melse\u001b[0m\u001b[1;33m:\u001b[0m\u001b[1;33m\u001b[0m\u001b[1;33m\u001b[0m\u001b[0m\n\u001b[0;32m   1116\u001b[0m             \u001b[1;32mif\u001b[0m \u001b[0mengine\u001b[0m \u001b[1;33m==\u001b[0m \u001b[1;34m\"python\"\u001b[0m\u001b[1;33m:\u001b[0m\u001b[1;33m\u001b[0m\u001b[1;33m\u001b[0m\u001b[0m\n",
      "\u001b[1;32m~\\Anaconda3\\lib\\site-packages\\pandas\\io\\parsers.py\u001b[0m in \u001b[0;36m__init__\u001b[1;34m(self, src, **kwds)\u001b[0m\n\u001b[0;32m   1889\u001b[0m         \u001b[0mkwds\u001b[0m\u001b[1;33m[\u001b[0m\u001b[1;34m\"usecols\"\u001b[0m\u001b[1;33m]\u001b[0m \u001b[1;33m=\u001b[0m \u001b[0mself\u001b[0m\u001b[1;33m.\u001b[0m\u001b[0musecols\u001b[0m\u001b[1;33m\u001b[0m\u001b[1;33m\u001b[0m\u001b[0m\n\u001b[0;32m   1890\u001b[0m \u001b[1;33m\u001b[0m\u001b[0m\n\u001b[1;32m-> 1891\u001b[1;33m         \u001b[0mself\u001b[0m\u001b[1;33m.\u001b[0m\u001b[0m_reader\u001b[0m \u001b[1;33m=\u001b[0m \u001b[0mparsers\u001b[0m\u001b[1;33m.\u001b[0m\u001b[0mTextReader\u001b[0m\u001b[1;33m(\u001b[0m\u001b[0msrc\u001b[0m\u001b[1;33m,\u001b[0m \u001b[1;33m**\u001b[0m\u001b[0mkwds\u001b[0m\u001b[1;33m)\u001b[0m\u001b[1;33m\u001b[0m\u001b[1;33m\u001b[0m\u001b[0m\n\u001b[0m\u001b[0;32m   1892\u001b[0m         \u001b[0mself\u001b[0m\u001b[1;33m.\u001b[0m\u001b[0munnamed_cols\u001b[0m \u001b[1;33m=\u001b[0m \u001b[0mself\u001b[0m\u001b[1;33m.\u001b[0m\u001b[0m_reader\u001b[0m\u001b[1;33m.\u001b[0m\u001b[0munnamed_cols\u001b[0m\u001b[1;33m\u001b[0m\u001b[1;33m\u001b[0m\u001b[0m\n\u001b[0;32m   1893\u001b[0m \u001b[1;33m\u001b[0m\u001b[0m\n",
      "\u001b[1;32mpandas\\_libs\\parsers.pyx\u001b[0m in \u001b[0;36mpandas._libs.parsers.TextReader.__cinit__\u001b[1;34m()\u001b[0m\n",
      "\u001b[1;32mpandas\\_libs\\parsers.pyx\u001b[0m in \u001b[0;36mpandas._libs.parsers.TextReader._setup_parser_source\u001b[1;34m()\u001b[0m\n",
      "\u001b[1;31mFileNotFoundError\u001b[0m: [Errno 2] File ALB_HDDreq_recalculated.csv does not exist: 'ALB_HDDreq_recalculated.csv'"
     ]
    }
   ],
   "source": [
    "# Load data.\n",
    "ALB_HDDreq = pd.read_csv('ALB_HDDreq_recalculated.csv', header = None)\n",
    "\n",
    "ALB_HDDreq_sd = pd.read_csv('ALB_HDDreq_sd.csv', header = None)\n",
    "\n",
    "ALB_LCT = pd.read_csv('ALB_LCT_recalculated.csv', header = None)\n",
    "\n",
    "ALB_UCT = pd.read_csv('ALB_UCT_recalculated.csv', header = None)"
   ]
  },
  {
   "cell_type": "code",
   "execution_count": null,
   "metadata": {},
   "outputs": [],
   "source": [
    "# Variables to determine timing of oviposition.\n",
    "mean_time_to_oviposition = 16 # Based on Keena (2006).\n",
    "sd_time_to_oviposition = 0"
   ]
  },
  {
   "cell_type": "code",
   "execution_count": null,
   "metadata": {},
   "outputs": [],
   "source": [
    "# The number of beetles and years to run in simulation.\n",
    "annual_cycles_included = 400\n",
    "number_of_beetles_used = 400"
   ]
  },
  {
   "cell_type": "code",
   "execution_count": null,
   "metadata": {},
   "outputs": [],
   "source": [
    "ALB_larvae_to_pupae_rate = pd.read_csv('ALB_Molt_Ratios_From_ALB_Parameters_Recalculated.csv', header=None)"
   ]
  },
  {
   "cell_type": "code",
   "execution_count": null,
   "metadata": {},
   "outputs": [],
   "source": [
    "# Set mean and sd of egg start date.\n",
    "mean_egg_start_date = 230\n",
    "sd_egg_start_date = 0\n",
    "    \n",
    "egg_start_dates = mean_egg_start_date + sd_egg_start_date * np.random.normal(loc=number_of_beetles_used, scale=1)"
   ]
  },
  {
   "cell_type": "code",
   "execution_count": null,
   "metadata": {},
   "outputs": [],
   "source": [
    "# Set the Julian Date on which the adult ALB will be removed from the system\n",
    "# annualy. Note that this value is not used in the simulation, but is used to\n",
    "# produce a graph of the \"Flight Seasons\" using the function ALBFlightSeasons.\n",
    "julian_date = 345"
   ]
  },
  {
   "cell_type": "code",
   "execution_count": null,
   "metadata": {},
   "outputs": [],
   "source": [
    "stages = (['eggs', 'larvae_1', 'larvae_2', 'larvae_3', 'larvae_4', 'larvae_5',\n",
    "           'larvae_6', 'larvae_7', 'larvae_8', 'larvae_9', 'larvae_10', 'larvae_11',\n",
    "           'pupae', 'scleritizing_adults', 'emerging_adults', 'egg_laying_adults'])\n",
    "\n",
    "scenarios = [\"curr\", \"pcm\", \"gfdl\"]\n",
    "ecoregions = [str(i) for i in range(1,10)]"
   ]
  },
  {
   "cell_type": "code",
   "execution_count": null,
   "metadata": {},
   "outputs": [],
   "source": [
    "# If the pupal temperature gate is being used, set up the temperature gate\n",
    "# matrix. NOTE: THIS AND THE CODE FOR THE PUPAE ASSUME THAT THE\n",
    "# TEMPERATURE CURVES ARE SMOOTH, I.E. MONOTONICALLY DECREASING AFTER SUMMER MAX.\n",
    "temp_gate_matrix = np.zeros((365,1))"
   ]
  },
  {
   "cell_type": "code",
   "execution_count": null,
   "metadata": {},
   "outputs": [],
   "source": [
    "# Pre-allocate matrices for beetles in each stage.\n",
    "for stage in range(16):\n",
    "    vars()[stages[stage]] = np.empty((annual_cycles_included,number_of_beetles_used))\n",
    "    vars()[stages[stage]][:] = np.NaN\n",
    "    \n",
    "# Pre-allocate the matrices for daily HDD (Heating degree-days) values.\n",
    "for stage in range(15):\n",
    "    vars()[stages[stage] + '_hdd'] = np.zeros((1,365))\n",
    "    base10_hdd = np.zeros((1,365))\n",
    "    \n",
    "# Pre-allocate the marix for output.\n",
    "egg_laying_adults_diffs = np.empty((annual_cycles_included,number_of_beetles_used))"
   ]
  },
  {
   "cell_type": "markdown",
   "metadata": {},
   "source": [
    "Process temperature data"
   ]
  },
  {
   "cell_type": "code",
   "execution_count": null,
   "metadata": {},
   "outputs": [],
   "source": [
    "# Load local temperature data.\n",
    "max_temp = pd.read_csv('NewYorkNYmaxt.csv', header = None)\n",
    "min_temp = pd.read_csv('NewYorkNYmint.csv', header = None)\n",
    "\n",
    "# If necessary, convert tempearute variables from Fahrenheit to Celsius.\n",
    "min_temp = (min_temp - 32) * (5/9)\n",
    "max_temp = (max_temp - 32) * (5/9)\n",
    "\n",
    "# Call function to smooth temperature data.\n",
    "smooth_temp_data(max_temp, min_temp)\n",
    "\n",
    "for day in range(1,365):\n",
    "    if min_temp.iloc[day][0] >= min_temp.iloc[day-1][0]:\n",
    "        temp_gate_matrix[day][0] = 1\n",
    "\n",
    "# If the pupal gate is being used, identify the first day of the summer\n",
    "# on which temperatures begin to decrease.\n",
    "last_warming_day = [];\n",
    "for day in range(60,365):\n",
    "    if temp_gate_matrix[day][0] == 0:\n",
    "        last_warming_day = day-1\n",
    "        break\n",
    "\n",
    "# Add a set number of days onto the temperature gate, which effectively\n",
    "# moves the day on which beetles are allowed to move to pupation later into\n",
    "# the summer if the pupal gate is being used.\n",
    "added_warming_days = 14\n",
    "new_last_warming_day = last_warming_day + added_warming_days\n",
    "\n",
    "temp_gate_matrix[(last_warming_day - 1):new_last_warming_day,0] = 1\n",
    "\n",
    "temp_gate_matrix = np.matlib.repmat(temp_gate_matrix,1,annual_cycles_included)\n",
    "\n",
    "min_temp_1 = min_temp\n",
    "for i in range(364):\n",
    "    min_temp_1.loc[i] = min_temp.loc[i+1]"
   ]
  },
  {
   "cell_type": "markdown",
   "metadata": {},
   "source": [
    "Calculate HDD for each stage"
   ]
  },
  {
   "cell_type": "code",
   "execution_count": null,
   "metadata": {},
   "outputs": [],
   "source": [
    "for day in range(364):\n",
    "    for stage in range(15):\n",
    "        vars()[stages[stage] + '_hdd'][0][day] = hdd_Allen(day,max_temp[0][day],min_temp[0][day],min_temp_1[0][day],ALB_LCT[0][stage],ALB_UCT[0][stage])\n",
    "    base10_hdd[0][day] = hdd_Allen(day,max_temp[0][day],min_temp[0][day],min_temp_1[0][day],10,100)\n",
    "\n",
    "for day in range(364,365):\n",
    "    for stage in range(15):\n",
    "        vars()[stages[stage] + '_hdd'][0][day] = hdd_Allen(day,max_temp[0][day],min_temp[0][day],min_temp_1[0][0],ALB_LCT[0][stage],ALB_UCT[0][stage])\n",
    "    base10_hdd[0][day] = hdd_Allen(day,max_temp[0][day],min_temp[0][day],min_temp_1[0][0],10,100)\n",
    "\n",
    "# Repeat the daily values so that the temperature record covers the\n",
    "# period included in the simulation.\n",
    "for stage in range(15):\n",
    "    vars()[stages[stage] + '_hdd'] = np.matlib.repmat(vars()[stages[stage] + '_hdd'],1,annual_cycles_included)"
   ]
  },
  {
   "cell_type": "markdown",
   "metadata": {},
   "source": [
    "Determine the day each beetle comletes each stage."
   ]
  },
  {
   "cell_type": "code",
   "execution_count": 1,
   "metadata": {},
   "outputs": [
    {
     "ename": "NameError",
     "evalue": "name 'annual_cycles_included' is not defined",
     "output_type": "error",
     "traceback": [
      "\u001b[1;31m---------------------------------------------------------------------------\u001b[0m",
      "\u001b[1;31mNameError\u001b[0m                                 Traceback (most recent call last)",
      "\u001b[1;32m<ipython-input-1-cd6027fa57ac>\u001b[0m in \u001b[0;36m<module>\u001b[1;34m\u001b[0m\n\u001b[1;32m----> 1\u001b[1;33m \u001b[1;32mfor\u001b[0m \u001b[0myears\u001b[0m \u001b[1;32min\u001b[0m \u001b[0mrange\u001b[0m\u001b[1;33m(\u001b[0m\u001b[0mannual_cycles_included\u001b[0m\u001b[1;33m)\u001b[0m\u001b[1;33m:\u001b[0m\u001b[1;33m\u001b[0m\u001b[1;33m\u001b[0m\u001b[0m\n\u001b[0m\u001b[0;32m      2\u001b[0m     \u001b[1;32mif\u001b[0m \u001b[0myears\u001b[0m \u001b[1;33m==\u001b[0m \u001b[1;36m0\u001b[0m\u001b[1;33m:\u001b[0m\u001b[1;33m\u001b[0m\u001b[1;33m\u001b[0m\u001b[0m\n\u001b[0;32m      3\u001b[0m         \u001b[1;31m# Stage 1 (Eggs).\u001b[0m\u001b[1;33m\u001b[0m\u001b[1;33m\u001b[0m\u001b[1;33m\u001b[0m\u001b[0m\n\u001b[0;32m      4\u001b[0m         \u001b[1;32mfor\u001b[0m \u001b[0mi\u001b[0m \u001b[1;32min\u001b[0m \u001b[0mrange\u001b[0m\u001b[1;33m(\u001b[0m\u001b[0mnumber_of_beetles_used\u001b[0m\u001b[1;33m)\u001b[0m\u001b[1;33m:\u001b[0m\u001b[1;33m\u001b[0m\u001b[1;33m\u001b[0m\u001b[0m\n\u001b[0;32m      5\u001b[0m             \u001b[0mrandomized_hdd_req\u001b[0m \u001b[1;33m=\u001b[0m \u001b[0mALB_HDDreq\u001b[0m\u001b[1;33m[\u001b[0m\u001b[1;36m0\u001b[0m\u001b[1;33m]\u001b[0m\u001b[1;33m[\u001b[0m\u001b[1;36m0\u001b[0m\u001b[1;33m]\u001b[0m \u001b[1;33m+\u001b[0m \u001b[1;33m(\u001b[0m\u001b[0mALB_HDDreq_sd\u001b[0m\u001b[1;33m[\u001b[0m\u001b[1;36m0\u001b[0m\u001b[1;33m]\u001b[0m\u001b[1;33m[\u001b[0m\u001b[1;36m0\u001b[0m\u001b[1;33m]\u001b[0m \u001b[1;33m*\u001b[0m \u001b[0mnp\u001b[0m\u001b[1;33m.\u001b[0m\u001b[0mrandom\u001b[0m\u001b[1;33m.\u001b[0m\u001b[0mnormal\u001b[0m\u001b[1;33m(\u001b[0m\u001b[0mloc\u001b[0m\u001b[1;33m=\u001b[0m\u001b[1;36m0.0\u001b[0m\u001b[1;33m,\u001b[0m \u001b[0mscale\u001b[0m\u001b[1;33m=\u001b[0m\u001b[1;36m1.0\u001b[0m\u001b[1;33m,\u001b[0m \u001b[0msize\u001b[0m\u001b[1;33m=\u001b[0m\u001b[1;32mNone\u001b[0m\u001b[1;33m)\u001b[0m\u001b[1;33m)\u001b[0m\u001b[1;33m\u001b[0m\u001b[1;33m\u001b[0m\u001b[0m\n",
      "\u001b[1;31mNameError\u001b[0m: name 'annual_cycles_included' is not defined"
     ]
    }
   ],
   "source": [
    "for years in range(annual_cycles_included):\n",
    "    if years == 0:\n",
    "        # Stage 1 (Eggs).\n",
    "        for i in range(number_of_beetles_used):\n",
    "            randomized_hdd_req = ALB_HDDreq[0][0] + (ALB_HDDreq_sd[0][0] * np.random.normal(loc=0.0, scale=1.0, size=None))\n",
    "            t1 = round(egg_start_dates)\n",
    "            # This sets the window of days for the calculation of HDD to the\n",
    "            # window bracketed by the day the egg was laid, and the \"current day\".\n",
    "            for t2 in range(t1,(annual_cycles_included*365 + 1)):\n",
    "                # If the current accumulation of HDD exceeds the required HDD\n",
    "                # then the day on which the requirement was exceeded is documented.\n",
    "                if sum(eggs_hdd[0][t1:t2]) >= randomized_hdd_req:\n",
    "                    # % Documents the day on which the egg completed development (hatched)\n",
    "                    eggs[0][i] = t2\n",
    "                    break\n",
    "    else:\n",
    "        # Stage 1 (Eggs).\n",
    "        for i in range(number_of_beetles_used):\n",
    "            randomized_hdd_req = ALB_HDDreq[0][0] + (ALB_HDDreq_sd[0][0] * np.random.normal(loc=0.0, scale=1.0, size=None))\n",
    "            # If the previous stage was an nan (i.e., it was not completed) then the current stage will be an nan.\n",
    "            if math.isnan(egg_laying_adults[years-1][i]):\n",
    "                eggs[years][i] = 'nan'\n",
    "            else:\n",
    "                for t in range((round(egg_laying_adults[years - 1][i]) + 1),(annual_cycles_included * 365 + 1)):\n",
    "                    if sum(eggs_hdd[0][round(egg_laying_adults[years - 1][i]):t]) >= randomized_hdd_req:\n",
    "                        eggs[years][i] = t\n",
    "                        break\n",
    "    # Stages 2-15.\n",
    "    for stage in range(1,15):\n",
    "        for i in range(number_of_beetles_used):\n",
    "            randomized_hdd_req = ALB_HDDreq[0][stage] + (ALB_HDDreq_sd[0][stage] * np.random.normal(loc=0.0, scale=1.0, size=None))\n",
    "            # If the previous stage was an NaN (i.e., it was not completed) then the current stage will be an NaN.\n",
    "            if math.isnan(vars()[stages[stage-1]][years][i]):\n",
    "                vars()[stages[stage]][years][i] = 'nan'\n",
    "            else:\n",
    "                for t in range((round(vars()[stages[stage-1]][years][i]) + 1),(annual_cycles_included * 365 + 1)):\n",
    "                    if sum(vars()[stages[stage] + '_hdd'][0][round(vars()[stages[stage-1]][years][i]):t]) >= randomized_hdd_req:\n",
    "                        vars()[stages[stage]][years][i] = t\n",
    "                        break\n",
    "\n",
    "    # Stage 16 (Egg laying adults).\n",
    "    for i in range(number_of_beetles_used):\n",
    "        if math.isnan(emerging_adults[years][i]):\n",
    "            egg_laying_adults[years][i] = 'nan'\n",
    "        else:\n",
    "            egg_laying_adults[years][i] = emerging_adults[years][i] + (mean_time_to_oviposition +\n",
    "                                         (sd_time_to_oviposition * np.random.normal(loc=0.0, scale=1.0, size=None)))\n",
    "            egg_laying_adults[years][i] = round(egg_laying_adults[years][i])"
   ]
  },
  {
   "cell_type": "markdown",
   "metadata": {},
   "source": [
    "Process data for output."
   ]
  },
  {
   "cell_type": "code",
   "execution_count": null,
   "metadata": {},
   "outputs": [],
   "source": [
    "egg_laying_adults = egg_laying_adults[~numpy.isnan(egg_laying_adults)]\n",
    "for column in range(0,number_of_beetles_used):\n",
    "    for row in range(1,21):\n",
    "        egg_laying_adults_diffs[row-1][column] = egg_laying_adults[row][column] - egg_laying_adults[row-1][column]\n",
    "disturbance_frequency = np.round(sum(egg_laying_adults_diffs[0:50])/50)"
   ]
  }
 ],
 "metadata": {
  "kernelspec": {
   "display_name": "Python 3",
   "language": "python",
   "name": "python3"
  },
  "language_info": {
   "codemirror_mode": {
    "name": "ipython",
    "version": 3
   },
   "file_extension": ".py",
   "mimetype": "text/x-python",
   "name": "python",
   "nbconvert_exporter": "python",
   "pygments_lexer": "ipython3",
   "version": "3.7.6"
  }
 },
 "nbformat": 4,
 "nbformat_minor": 4
}

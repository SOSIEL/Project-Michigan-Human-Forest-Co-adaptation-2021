{
 "cells": [
  {
   "cell_type": "markdown",
   "id": "6cc1b654",
   "metadata": {},
   "source": [
    "Explain"
   ]
  },
  {
   "cell_type": "code",
   "execution_count": 8,
   "id": "5ace5b0d",
   "metadata": {},
   "outputs": [
    {
     "data": {
      "text/html": [
       "<table class=\"dataframe\">\n",
       "<caption>A matrix: 0 × 17 of type chr</caption>\n",
       "<thead>\n",
       "\t<tr><th scope=col>Package</th><th scope=col>LibPath</th><th scope=col>Version</th><th scope=col>Priority</th><th scope=col>Depends</th><th scope=col>Imports</th><th scope=col>LinkingTo</th><th scope=col>Suggests</th><th scope=col>Enhances</th><th scope=col>License</th><th scope=col>License_is_FOSS</th><th scope=col>License_restricts_use</th><th scope=col>OS_type</th><th scope=col>Archs</th><th scope=col>MD5sum</th><th scope=col>NeedsCompilation</th><th scope=col>Built</th></tr>\n",
       "</thead>\n",
       "<tbody>\n",
       "</tbody>\n",
       "</table>\n"
      ],
      "text/latex": [
       "A matrix: 0 × 17 of type chr\n",
       "\\begin{tabular}{lllllllllllllllll}\n",
       " Package & LibPath & Version & Priority & Depends & Imports & LinkingTo & Suggests & Enhances & License & License\\_is\\_FOSS & License\\_restricts\\_use & OS\\_type & Archs & MD5sum & NeedsCompilation & Built\\\\\n",
       "\\hline\n",
       "\\end{tabular}\n"
      ],
      "text/markdown": [
       "\n",
       "A matrix: 0 × 17 of type chr\n",
       "\n",
       "| Package | LibPath | Version | Priority | Depends | Imports | LinkingTo | Suggests | Enhances | License | License_is_FOSS | License_restricts_use | OS_type | Archs | MD5sum | NeedsCompilation | Built |\n",
       "|---|---|---|---|---|---|---|---|---|---|---|---|---|---|---|---|---|\n",
       "\n"
      ],
      "text/plain": [
       "     Package LibPath Version Priority Depends Imports LinkingTo Suggests\n",
       "     Enhances License License_is_FOSS License_restricts_use OS_type Archs\n",
       "     MD5sum NeedsCompilation Built"
      ]
     },
     "metadata": {},
     "output_type": "display_data"
    }
   ],
   "source": [
    "installed.packages(\"extrafont\")"
   ]
  },
  {
   "cell_type": "code",
   "execution_count": 9,
   "id": "2cc35139",
   "metadata": {},
   "outputs": [
    {
     "ename": "ERROR",
     "evalue": "Error in library(extrafont): there is no package called 'extrafont'\n",
     "output_type": "error",
     "traceback": [
      "Error in library(extrafont): there is no package called 'extrafont'\nTraceback:\n",
      "1. library(extrafont)"
     ]
    }
   ],
   "source": [
    "library(ggplot2)\n",
    "library(extrafont)\n",
    "library(grid)"
   ]
  },
  {
   "cell_type": "markdown",
   "id": "5bb2bc7e",
   "metadata": {},
   "source": [
    "Set working directory to source file location"
   ]
  },
  {
   "cell_type": "code",
   "execution_count": null,
   "id": "83c28176",
   "metadata": {},
   "outputs": [],
   "source": [
    "library(rstudioapi)\n",
    "setwd(dirname(getActiveDocumentContext()$path))\n",
    "getwd()"
   ]
  },
  {
   "cell_type": "markdown",
   "id": "3a1d65e3",
   "metadata": {},
   "source": []
  },
  {
   "cell_type": "code",
   "execution_count": null,
   "id": "82220a1e",
   "metadata": {},
   "outputs": [],
   "source": [
    "y1 <- read.csv(file = \"infestation_frequency_curr.csv\", header = TRUE, stringsAsFactors = FALSE)\n",
    "y2 <- read.csv(file = \"infestation_frequency_pcm.csv\", header = TRUE, stringsAsFactors = FALSE)\n",
    "y3 <- read.csv(file = \"infestation_frequency_gfdl.csv\", header = TRUE, stringsAsFactors = FALSE)"
   ]
  },
  {
   "cell_type": "markdown",
   "id": "df1d10a3",
   "metadata": {},
   "source": [
    "make month an ordered factor to avoid the sorting of x."
   ]
  },
  {
   "cell_type": "code",
   "execution_count": null,
   "id": "de64cd07",
   "metadata": {},
   "outputs": [],
   "source": [
    "y1$month <- factor(y1$month, levels = y1$month)"
   ]
  },
  {
   "cell_type": "markdown",
   "id": "117ec534",
   "metadata": {},
   "source": [
    "Create plot"
   ]
  },
  {
   "cell_type": "code",
   "execution_count": null,
   "id": "0b3dd12d",
   "metadata": {},
   "outputs": [],
   "source": [
    "tiff(\"infestation frequency scenarios.tiff\", units=\"in\", width=5, height=5, res=300)\n",
    "ggplot() +\n",
    "  geom_point(data = y1, aes(x = ecoregion, y = years, group=1, color=\"black\")) +\n",
    "  geom_line(data = y1, aes(x = ecoregion, y = years, group=1, color=\"black\")) +\n",
    "  geom_hline(yintercept=4.6, linetype=\"dashed\", color = \"black\") +\n",
    "  annotation_custom(textGrob(\"4.6\", gp = gpar(col = \"black\")),xmin=0, xmax=0,ymin=4.6, ymax=4.6) +\n",
    "  geom_point(data = y2, aes(x = ecoregion, y = years, group=1, color=\"orange\")) +\n",
    "  geom_line(data = y2, aes(x = ecoregion, y = years, group=1, color=\"orange\")) +\n",
    "  geom_hline(yintercept=3.9, linetype=\"dashed\", color = \"orange\") +\n",
    "  geom_point(data = y3, aes(x = ecoregion, y = years, group=1, color=\"red\")) +  \n",
    "  geom_line(data = y3, aes(x = ecoregion, y = years, group=1, color=\"red\")) +\n",
    "  labs(x =\"Ecoregions\", y = \"Estimated infestation frequency (in years)\") +\n",
    "  scale_y_continuous(breaks= c(2, 2.5, 3.0, 3.5, 3.9, 4.0, 4.5, 4.6, 5.0, 5.5, 6.0)) + #seq(1,6,0.5)) +\n",
    "  #ylim(2,6) +\n",
    "  scale_color_identity(name = \"Scenarios\",\n",
    "                       breaks = c(\"black\", \"orange\", \"red\"),\n",
    "                       labels = c(\"Currrent\", \"Warmer and wetter\", \"Hotter and drier\"),\n",
    "                       guide = \"legend\") +\n",
    "  theme(panel.background = element_blank(),\n",
    "        panel.grid.major = element_line(color=\"grey\", size = (0.2)),\n",
    "        #panel.grid.minor = element_line(color=\"grey\", size = (0.2)),\n",
    "        axis.text = element_text(family=\"Times New Roman\"),\n",
    "        axis.title.x = element_text(family=\"Times New Roman\"),\n",
    "        axis.title.y = element_text(family=\"Times New Roman\"),\n",
    "        legend.position = c(0.75, 0.25),\n",
    "        legend.title = element_text(family=\"Times New Roman\"),\n",
    "        legend.text = element_text(family=\"Times New Roman\"),\n",
    "        legend.background = element_rect(color=\"white\"),\n",
    "        legend.key = element_blank(),\n",
    "        axis.line = element_line(colour = \"black\"))\n",
    "dev.off()"
   ]
  }
 ],
 "metadata": {
  "kernelspec": {
   "display_name": "R",
   "language": "R",
   "name": "ir"
  },
  "language_info": {
   "codemirror_mode": "r",
   "file_extension": ".r",
   "mimetype": "text/x-r-source",
   "name": "R",
   "pygments_lexer": "r",
   "version": "4.0.3"
  }
 },
 "nbformat": 4,
 "nbformat_minor": 5
}

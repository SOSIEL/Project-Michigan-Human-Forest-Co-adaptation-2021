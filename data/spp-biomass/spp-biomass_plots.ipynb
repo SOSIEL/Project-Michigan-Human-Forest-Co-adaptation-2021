{
 "cells": [
  {
   "cell_type": "markdown",
   "metadata": {},
   "source": [
    "**Name:** spp-biomass_plots  \n",
    "**Description:** The Python code creates species-specific plots using the data in the files created by the spp-biomass code.  \n",
    "**Author:** G. Sotnik"
   ]
  },
  {
   "cell_type": "markdown",
   "metadata": {},
   "source": [
    "Import relevant libraries."
   ]
  },
  {
   "cell_type": "code",
   "execution_count": null,
   "metadata": {},
   "outputs": [],
   "source": [
    "import matplotlib.pyplot as plt\n",
    "import pandas as pd"
   ]
  },
  {
   "cell_type": "markdown",
   "metadata": {},
   "source": [
    "Load data. Designate the first row and column as indices."
   ]
  },
  {
   "cell_type": "code",
   "execution_count": null,
   "metadata": {},
   "outputs": [],
   "source": [
    "spp_biomass_mgmt = pd.read_csv('spp_biomass_pcm_mgmt_sim1_acersacc.csv',\n",
    "                               header = 0, index_col = 0)\n",
    "spp_biomass_mgmt_alb = pd.read_csv('spp_biomass_pcm_mgmt_alb_sim1_acersacc.csv',\n",
    "                                   header = 0, index_col = 0)"
   ]
  },
  {
   "cell_type": "markdown",
   "metadata": {},
   "source": [
    "Plot the loaded data."
   ]
  },
  {
   "cell_type": "code",
   "execution_count": null,
   "metadata": {},
   "outputs": [],
   "source": [
    "ax = plt.gca()\n",
    "\n",
    "spp_biomass_mgmt.plot(kind='line', y = 8, ax = ax)\n",
    "spp_biomass_mgmt_alb.plot(kind='line', y = 8, color = 'red', ax = ax)\n",
    "\n",
    "plt.show()"
   ]
  }
 ],
 "metadata": {
  "kernelspec": {
   "display_name": "Python 3",
   "language": "python",
   "name": "python3"
  },
  "language_info": {
   "codemirror_mode": {
    "name": "ipython",
    "version": 3
   },
   "file_extension": ".py",
   "mimetype": "text/x-python",
   "name": "python",
   "nbconvert_exporter": "python",
   "pygments_lexer": "ipython3",
   "version": "3.7.6"
  }
 },
 "nbformat": 4,
 "nbformat_minor": 4
}
